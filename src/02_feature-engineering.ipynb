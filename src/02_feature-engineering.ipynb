{
 "cells": [
  {
   "cell_type": "markdown",
   "metadata": {},
   "source": [
    "# feature engineering\n",
    "Start:\n",
    "* one database with two collections that hold all the sprints and issues with all the raw data\n",
    "* only addition to this raw data is a field which repository they belong to\n",
    "\n",
    "End:\n",
    "\n",
    "* Sprints:\n",
    "  * Make aggregation of each sprint's metadata:\n",
    "    * sprint planned duration in days\n",
    "    * sprint overdue boolean (completedDate > endDate)\n",
    "    * Number of issues inside sprint\n",
    "    * Median number of issues with changed sprint\n",
    "* Issues:\n",
    "  * predictor: has sprint field in change log (boolean)\n",
    "  * Number of sprint fields in change log (int)\n",
    "  * Add originSprintId field (uuid)\n",
    "  * Add above sprint metadata fields to every issue\n",
    "  * All not used (custom)fields should be removed"
   ]
  },
  {
   "cell_type": "code",
   "execution_count": 8,
   "metadata": {},
   "outputs": [],
   "source": [
    "# Auxiliary\n",
    "import pymongo\n",
    "import re\n",
    "import json\n",
    "import numpy as np\n",
    "from datetime import datetime\n",
    "from dateutil import parser\n",
    "\n",
    "client = pymongo.MongoClient(\"mongodb://localhost:27017\")\n",
    "db = client['JiraRepos']"
   ]
  },
  {
   "cell_type": "code",
   "execution_count": 11,
   "metadata": {},
   "outputs": [],
   "source": [
    "# Sprints\n",
    "coll_issues = db['01_Issues']\n",
    "coll_sprints = db['02_Sprints']\n",
    "sprints = coll_sprints.find()\n",
    "\n",
    "for sprint in sprints:\n",
    "    # sprint planned duration in days\n",
    "    try:\n",
    "        startDate = parser.parse(sprint['startDate'])\n",
    "        endDate = parser.parse(sprint['endDate'])\n",
    "        plannedDuration =  (endDate - startDate).days\n",
    "    except:\n",
    "        plannedDuration = np.nan\n",
    "\n",
    "    # Number of issues inside sprint\n",
    "    issues = sprint['issues']\n",
    "    noOfIssues = len(issues)\n",
    "    changes_in_issues = 0\n",
    "    sprint_changes_in_issues = 0\n",
    "    \n",
    "    # Get total number of changes and sprint changes \n",
    "    for issue in issues:\n",
    "        doc = coll_issues.find_one({\"id\": issue})\n",
    "        changes_in_issues += doc['totalChanges']\n",
    "        sprint_changes_in_issues += doc['sprintChanges']\n",
    "\n",
    "    coll_sprints.update_one({'id': sprint['id']}, {'$set': {'plannedDuration': plannedDuration, 'noOfIssues': noOfIssues, \"totalChanges\": changes_in_issues, \"sprintChanges\": sprint_changes_in_issues}})\n",
    "\n"
   ]
  },
  {
   "cell_type": "code",
   "execution_count": null,
   "metadata": {},
   "outputs": [],
   "source": [
    "# Add above sprint metadata fields to every issue"
   ]
  },
  {
   "cell_type": "code",
   "execution_count": null,
   "metadata": {},
   "outputs": [],
   "source": [
    "# Keep only a selection of fields as features\n",
    "fields_to_keep = ['description', 'summary', 'resolution.name', 'priority.name', 'aggregatetimeoriginalestimate', 'timeestimate', 'assignnee.key', 'status.name', 'votes.votes', 'issuetype.name', 'project.id', 'watches.watchcount', 'comments.count']"
   ]
  },
  {
   "cell_type": "code",
   "execution_count": null,
   "metadata": {},
   "outputs": [],
   "source": [
    "def get_origin_sprint(issue_id):\n",
    "    sprint_id = re.search(r'id=(.*?),', issue_id[]).group(1)"
   ]
  },
  {
   "cell_type": "code",
   "execution_count": null,
   "metadata": {},
   "outputs": [],
   "source": [
    "# Sprints that need the new Issue data\n",
    "# Median number of issues with changed sprint"
   ]
  }
 ],
 "metadata": {
  "interpreter": {
   "hash": "582f8712dad1a0319f72c7e92e3b96ca464071e4bc7f86c128f6102231981976"
  },
  "kernelspec": {
   "display_name": "Python 3.8.9 ('.venv': venv)",
   "language": "python",
   "name": "python3"
  },
  "language_info": {
   "codemirror_mode": {
    "name": "ipython",
    "version": 3
   },
   "file_extension": ".py",
   "mimetype": "text/x-python",
   "name": "python",
   "nbconvert_exporter": "python",
   "pygments_lexer": "ipython3",
   "version": "3.8.9"
  },
  "orig_nbformat": 4
 },
 "nbformat": 4,
 "nbformat_minor": 2
}
