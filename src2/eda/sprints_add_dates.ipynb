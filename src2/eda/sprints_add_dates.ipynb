{
 "cells": [
  {
   "cell_type": "code",
   "execution_count": null,
   "metadata": {},
   "outputs": [],
   "source": [
    "import pymongo"
   ]
  },
  {
   "cell_type": "code",
   "execution_count": null,
   "metadata": {},
   "outputs": [],
   "source": [
    "# Initial setup\n",
    "client = pymongo.MongoClient(\"mongodb://localhost:27017\")"
   ]
  },
  {
   "cell_type": "code",
   "execution_count": null,
   "metadata": {},
   "outputs": [],
   "source": [
    "# repos = ['Apache', 'Hyperledger', 'Spring']\n",
    "# for repo in repos:\n",
    "repo = 'Sandbox'\n",
    "\n",
    "mdb_db = client[repo]\n",
    "mdb_col = mdb_db['Sprints']\n",
    "cursor = mdb_col.find({})\n",
    "for document in cursor:\n",
    "    print(document['id'])"
   ]
  }
 ],
 "metadata": {
  "language_info": {
   "name": "python"
  },
  "orig_nbformat": 4
 },
 "nbformat": 4,
 "nbformat_minor": 2
}
