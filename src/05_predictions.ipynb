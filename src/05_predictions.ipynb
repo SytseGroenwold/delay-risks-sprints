{
 "cells": [
  {
   "cell_type": "markdown",
   "metadata": {},
   "source": [
    "# Predictions\n",
    "With the trained model, here the train dataset is used to make predictions.\n",
    "This is done on the full test dataset, but also in subsets of this test data set. This allows for additional analysis on the different types of data that were retrieved (direct public vs indicrect public vs proprietary)"
   ]
  },
  {
   "cell_type": "code",
   "execution_count": null,
   "metadata": {},
   "outputs": [],
   "source": [
    "# direct vs indirect\n"
   ]
  },
  {
   "cell_type": "code",
   "execution_count": null,
   "metadata": {},
   "outputs": [],
   "source": [
    "# "
   ]
  }
 ],
 "metadata": {
  "interpreter": {
   "hash": "f2d2501451e4ef932eed298ce4bf2f29121e220f657780d33d6267747bf71878"
  },
  "kernelspec": {
   "display_name": "Python 3.9.1 ('.venv': venv)",
   "language": "python",
   "name": "python3"
  },
  "language_info": {
   "name": "python",
   "version": "3.9.1"
  },
  "orig_nbformat": 4
 },
 "nbformat": 4,
 "nbformat_minor": 2
}
