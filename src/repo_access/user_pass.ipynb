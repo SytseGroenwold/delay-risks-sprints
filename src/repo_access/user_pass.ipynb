{
 "cells": [
  {
   "cell_type": "markdown",
   "metadata": {},
   "source": [
    "# Basic authentication\n",
    "Results:\n",
    "* api: \n",
    "* jira: \n",
    "* greenhopper:"
   ]
  },
  {
   "cell_type": "code",
   "execution_count": 1,
   "metadata": {},
   "outputs": [],
   "source": [
    "import math\n",
    "import requests\n",
    "from jira import JIRA\n",
    "from jira.client import GreenHopper\n",
    "from requests.auth import HTTPBasicAuth\n",
    "from requests import JSONDecodeError\n"
   ]
  },
  {
   "cell_type": "code",
   "execution_count": 2,
   "metadata": {},
   "outputs": [],
   "source": [
    "jiras = {\n",
    "    'Apache': {'url': 'https://issues.apache.org/jira', 'username': '', 'password': ''},\n",
    "    'Hyperledger': {'url': 'https://jira.hyperledger.org', 'username': '', 'password': ''},\n",
    "    'DAOS': {'url': 'https://daosio.atlassian.net/jira/', 'username': '', 'password': ''},\n",
    "    'JFrog': {'url': 'https://www.jfrog.com/jira', 'username': '', 'password': ''},\n",
    "    'JIRA': {'url': 'https://jira.atlassian.com/secure/', 'username': '', 'password': ''},\n",
    "    'JIRAEcosystem': {'url': 'https://ecosystem.atlassian.net/jira/', 'username': '', 'password': ''},\n",
    "    'MongoDB': {'url': 'https://jira.mongodb.org', 'username': '', 'password': ''},\n",
    "    'QT': {'url': 'https://bugreports.qt.io', 'username': '', 'password': ''},\n",
    "    'RedHat': {'url': 'https://issues.redhat.com/', 'username': '', 'password': ''},\n",
    "    'Sakai': {'url': 'https://sakaiproject.atlassian.net/jira', 'username': '', 'password': ''},\n",
    "    'SecondLife': {'url': 'https://jira.secondlife.com', 'username': '', 'password': ''},\n",
    "    'Sonatype': {'url': 'https://issues.sonatype.org/', 'username': '', 'password': ''},\n",
    "    'Spring': {'url': 'https://jira.spring.io', 'username': '', 'password': ''},\n",
    "    'Vivo': {'url': 'https://vivo-project.atlassian.net/jira', 'username': '', 'password': ''},\n",
    "    'Islandora': {'url': 'https://islandora-legacy.atlassian.net/jira', 'username': '', 'password': ''},\n",
    "    'Fedora': {'url': 'https://fedora-repository.atlassian.net/jira', 'username': '', 'password': ''},\n",
    "    'Duracloud': {'url': 'https://duracloud.atlassian.net/jira', 'username': '', 'password': ''},\n",
    "    'Talendforge': {'url': 'https://jira.talendforge.org', 'registration': 'no'}\n",
    "}"
   ]
  },
  {
   "cell_type": "code",
   "execution_count": null,
   "metadata": {},
   "outputs": [],
   "source": [
    "client = pymongo.MongoClient(\"mongodb://localhost:27017\")"
   ]
  },
  {
   "cell_type": "code",
   "execution_count": 3,
   "metadata": {},
   "outputs": [
    {
     "data": {
      "text/plain": [
       "'https://jira.hyperledger.org/rest/api/2/search?jql='"
      ]
     },
     "execution_count": 3,
     "metadata": {},
     "output_type": "execute_result"
    }
   ],
   "source": [
    "repo = 'Hyperledger'\n",
    "url = jiras[repo]['url']\n",
    "api = '/rest/api/2/search?jql='\n",
    "call = url + api\n",
    "call"
   ]
  },
  {
   "cell_type": "code",
   "execution_count": 31,
   "metadata": {},
   "outputs": [
    {
     "name": "stdout",
     "output_type": "stream",
     "text": [
      "Starting repo: Apache\n",
      "JSONDecodeError\n",
      "Starting repo: Hyperledger\n",
      "JSONDecodeError\n",
      "Starting repo: DAOS\n",
      "JSONDecodeError\n",
      "Starting repo: JFrog\n",
      "JSONDecodeError\n",
      "Starting repo: JIRA\n",
      "JSONDecodeError\n",
      "Starting repo: JIRAEcosystem\n",
      "JSONDecodeError\n",
      "Starting repo: MongoDB\n",
      "JSONDecodeError\n",
      "Starting repo: QT\n",
      "JSONDecodeError\n",
      "Starting repo: RedHat\n",
      "JSONDecodeError\n",
      "Starting repo: Sakai\n",
      "JSONDecodeError\n",
      "Starting repo: SecondLife\n",
      "JSONDecodeError\n",
      "Starting repo: Sonatype\n",
      "JSONDecodeError\n",
      "Starting repo: Spring\n",
      "JSONDecodeError\n",
      "Starting repo: Vivo\n",
      "JSONDecodeError\n",
      "Starting repo: Islandora\n",
      "JSONDecodeError\n",
      "Starting repo: Fedora\n",
      "JSONDecodeError\n",
      "Starting repo: Duracloud\n",
      "JSONDecodeError\n",
      "Starting repo: Talendforge\n",
      "JSONDecodeError\n"
     ]
    }
   ],
   "source": [
    "def get_all_boards(repo):\n",
    "    # get number of boards for pagination\n",
    "    url = jiras[repo]['url']\n",
    "    api = '/rest/agile/1.0/board'\n",
    "    req = url + api\n",
    "    response = requests.get(req)\n",
    "    boards_total = response.json()['total']\n",
    "    \n",
    "    # get all boards over several calls\n",
    "    boards_calls = math.ceil(boards_total / 50)\n",
    "    start_at = 0\n",
    "    boards = []\n",
    "    api = '/rest/agile/1.0/board?startAt=50&type=scrum'\n",
    "\n",
    "    for i in range(1,boards_calls+1):\n",
    "        api = '/rest/agile/1.0/board?startAt=' + str(start_at)\n",
    "        req = url+api\n",
    "        response = requests.get(req)\n",
    "        boards += response.json()['values']\n",
    "        start_at += 50\n",
    "    return boards\n",
    "\n",
    "# repos = ['Apache', 'Hyperledger', 'Spring'] \n",
    "repos = ['Hyperledger']\n",
    "repos = [i for i in jiras.keys()]\n",
    "for repo in repos:\n",
    "    print(\"Starting repo: \" + repo)\n",
    "    # mdb_db = client[repo]\n",
    "    # mdb_col = mdb_db['Boards']\n",
    "    try:\n",
    "        boards = get_all_boards(repo)\n",
    "        # mdb_col.insert_many(boards)\n",
    "        print(\"got a result\")\n",
    "    except JSONDecodeError as e:\n",
    "        print(\"JSONDecodeError\")"
   ]
  },
  {
   "cell_type": "markdown",
   "metadata": {},
   "source": [
    "# Attempt with Jira Module"
   ]
  },
  {
   "cell_type": "code",
   "execution_count": null,
   "metadata": {},
   "outputs": [],
   "source": [
    "from jira import JIRAError\n",
    "\n",
    "for repo in jiras.keys():\n",
    "    # repo = 'Hyperledger'\n",
    "    url = jiras[repo]['url']\n",
    "    \n",
    "    try:\n",
    "        jira = JIRA(server=url)\n",
    "        boards = jira.boards()\n",
    "        print(repo + \": ok\")\n",
    "    except JIRAError as e:\n",
    "        print(repo + \": \" + str(e.text))\n",
    "    except JSONDecodeError as e:\n",
    "        print(repo + \": \" + str(e))\n"
   ]
  },
  {
   "cell_type": "markdown",
   "metadata": {},
   "source": [
    "# Attempt with GreenHopper"
   ]
  },
  {
   "cell_type": "code",
   "execution_count": 31,
   "metadata": {},
   "outputs": [
    {
     "name": "stdout",
     "output_type": "stream",
     "text": [
      "Apache: Jira error\n",
      "Hyperledger: Jira error\n",
      "DAOS: Jira error\n",
      "JFrog: Jira error\n",
      "JIRA: JSONDecodeError\n",
      "JIRAEcosystem: Jira error\n",
      "MongoDB: Jira error\n",
      "QT: Jira error\n",
      "RedHat: Jira error\n",
      "Sakai: Jira error\n",
      "SecondLife: Jira error\n",
      "Sonatype: Jira error\n",
      "Spring: Jira error\n",
      "Vivo: Jira error\n",
      "Islandora: Jira error\n",
      "Fedora: Jira error\n",
      "Duracloud: Jira error\n",
      "Talendforge: Jira error\n"
     ]
    }
   ],
   "source": [
    "# greenhopper\n",
    "\n",
    "def get_all_boards(repo):\n",
    "    options = {\"server\": \"https://jira.atlassian.com\"}\n",
    "    gh = GreenHopper(options)\n",
    "    # boards = \"empty\"\n",
    "    boards = gh.boards()\n",
    "    return boards\n",
    "\n",
    "for repo in jiras.keys():\n",
    "    # repo = 'Hyperledger'\n",
    "    url = jiras[repo]['url']\n",
    "    options = {\"server\": url}\n",
    "    try:\n",
    "        gh = GreenHopper(options)\n",
    "        boards = get_all_boards(repo)\n",
    "        print(repo + \": ok\")\n",
    "    except JIRAError as e:\n",
    "        print(repo + \": Jira error\")\n",
    "    except JSONDecodeError as e:\n",
    "        print(repo + \": JSONDecodeError\")"
   ]
  },
  {
   "cell_type": "code",
   "execution_count": null,
   "metadata": {},
   "outputs": [],
   "source": [
    "# Get the sprints in a specific board\n",
    "board_id = 441\n",
    "print(f\"GreenHopper board: {boards[0].name} ({board_id})\")\n",
    "sprints = gh.sprints(board_id)"
   ]
  }
 ],
 "metadata": {
  "interpreter": {
   "hash": "63fd5069d213b44bf678585dea6b12cceca9941eaf7f819626cde1f2670de90d"
  },
  "kernelspec": {
   "display_name": "Python 3.9.1 64-bit",
   "language": "python",
   "name": "python3"
  },
  "language_info": {
   "codemirror_mode": {
    "name": "ipython",
    "version": 3
   },
   "file_extension": ".py",
   "mimetype": "text/x-python",
   "name": "python",
   "nbconvert_exporter": "python",
   "pygments_lexer": "ipython3",
   "version": "3.8.9"
  },
  "orig_nbformat": 4
 },
 "nbformat": 4,
 "nbformat_minor": 2
}
