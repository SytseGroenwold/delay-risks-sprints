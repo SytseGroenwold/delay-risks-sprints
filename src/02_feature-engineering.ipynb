{
 "cells": [
  {
   "cell_type": "markdown",
   "metadata": {},
   "source": [
    "# feature engineering\n",
    "Start:\n",
    "* one database with two collections that hold all the sprints and issues with all the raw data\n",
    "* only addition to this raw data is a field which repository they belong to\n",
    "\n",
    "End:\n",
    "\n",
    "* Sprints:\n",
    "  * Make aggregation of each sprint's metadata:\n",
    "    * sprint planned duration in days\n",
    "    * sprint overdue boolean (completedDate > endDate)\n",
    "    * Number of issues inside sprint\n",
    "    * Median number of issues with changed sprint\n",
    "* Issues:\n",
    "  * predictor: has sprint field in change log (boolean)\n",
    "  * Number of sprint fields in change log (int)\n",
    "  * Add originSprintId field (uuid)\n",
    "  * Add above sprint metadata fields to every issue\n",
    "  * All not used (custom)fields should be removed"
   ]
  },
  {
   "cell_type": "code",
   "execution_count": 2,
   "metadata": {},
   "outputs": [],
   "source": [
    "# Auxiliary\n",
    "import pymongo\n",
    "import re\n",
    "import json\n",
    "import numpy as np\n",
    "from datetime import datetime\n",
    "from dateutil import parser\n",
    "\n",
    "client = pymongo.MongoClient(\"mongodb://localhost:27017\")\n",
    "db = client['JiraRepos']"
   ]
  },
  {
   "cell_type": "code",
   "execution_count": 4,
   "metadata": {},
   "outputs": [],
   "source": [
    "# Sprints\n",
    "coll = db['02_Sprints']\n",
    "sprints = coll.find()\n",
    "\n",
    "# Iterate over each sprint\n",
    "for sprint in sprints:\n",
    "    # print(sprint)\n",
    "    \n",
    "    # sprint planned duration in days\n",
    "    try:\n",
    "        startDate = parser.parse(sprint['startDate'])\n",
    "        endDate = parser.parse(sprint['endDate'])\n",
    "        plannedDuration =  (endDate - startDate).days\n",
    "    except:\n",
    "        plannedDuration = np.nan\n",
    "\n",
    "    # sprint overdue boolean (completedDate > endDate)\n",
    "    try:\n",
    "        completeDate = parser.parse(sprint['completeDate'])\n",
    "        if (completeDate - endDate).days > 1:\n",
    "            isOverdue = 1\n",
    "        else:\n",
    "            isOverdue = 0\n",
    "    except:\n",
    "        isOverdue = np.nan\n",
    "\n",
    "\n",
    "    # Number of issues inside sprint\n",
    "    noOfIssues = len(sprint['issues'])\n",
    "\n",
    "    coll.update_one({'id': sprint['id']}, {'$set': {'plannedDuration': plannedDuration, 'isOverdue': isOverdue, 'noOfIssues': noOfIssues}})\n",
    "    # print(sprint['id'], plannedDuration, isOverdue, noOfIssues)\n",
    "\n"
   ]
  },
  {
   "cell_type": "code",
   "execution_count": null,
   "metadata": {},
   "outputs": [],
   "source": [
    "def get_origin_sprint(issue_id):\n",
    "    sprint_id = re.search(r'id=(.*?),', issue_id[]).group(1)"
   ]
  },
  {
   "cell_type": "code",
   "execution_count": null,
   "metadata": {},
   "outputs": [],
   "source": [
    "# Issues\n",
    "coll = db['01_Issues']\n",
    "issues = coll.find()\n",
    "\n",
    "# Number of sprint fields in change log (int)\n",
    "for issue in issues:\n",
    "    sprint_changes = 0\n",
    "    print(issue['id'])\n",
    "    print(issue['changelog']['total'])\n",
    "    histories = issue['changelog']['histories']\n",
    "    for history in histories:\n",
    "        for item in history['items']:\n",
    "            if 'sprint' in item['field'].lower():\n",
    "                sprint_changes += 1\n",
    "    \n",
    "    print(\"sprint changes: \" + str(sprint_changes))\n",
    "\n",
    "    # Add above sprint metadata fields to every issue\n",
    "    # All not used (custom)fields should be removed"
   ]
  },
  {
   "cell_type": "code",
   "execution_count": null,
   "metadata": {},
   "outputs": [],
   "source": [
    "# Sprints that need the new Issue data\n",
    "# Median number of issues with changed sprint"
   ]
  }
 ],
 "metadata": {
  "interpreter": {
   "hash": "582f8712dad1a0319f72c7e92e3b96ca464071e4bc7f86c128f6102231981976"
  },
  "kernelspec": {
   "display_name": "Python 3.8.9 ('.venv': venv)",
   "language": "python",
   "name": "python3"
  },
  "language_info": {
   "codemirror_mode": {
    "name": "ipython",
    "version": 3
   },
   "file_extension": ".py",
   "mimetype": "text/x-python",
   "name": "python",
   "nbconvert_exporter": "python",
   "pygments_lexer": "ipython3",
   "version": "3.8.9"
  },
  "orig_nbformat": 4
 },
 "nbformat": 4,
 "nbformat_minor": 2
}
