{
 "cells": [
  {
   "cell_type": "markdown",
   "metadata": {},
   "source": [
    "# feature engineering\n",
    "Start:\n",
    "* one database with two collections that hold all the sprints and issues with all the raw data\n",
    "* only addition to this raw data is a field which repository they belong to\n",
    "\n",
    "End:\n",
    "\n",
    "* Sprints:\n",
    "  * Make aggregation of each sprint's metadata:\n",
    "    * sprint planned duration in days\n",
    "    * sprint overdue boolean (completedDate > endDate)\n",
    "    * Number of issues inside sprint\n",
    "    * Median number of issues with changed sprint\n",
    "* Issues:\n",
    "  * predictor: has sprint field in change log (boolean)\n",
    "  * Number of sprint fields in change log (int)\n",
    "  * Add originSprintId field (uuid)\n",
    "  * Add above sprint metadata fields to every issue\n",
    "  * All not used (custom)fields should be removed"
   ]
  },
  {
   "cell_type": "code",
   "execution_count": null,
   "metadata": {
    "vscode": {
     "languageId": "plaintext"
    }
   },
   "outputs": [],
   "source": []
  }
 ],
 "metadata": {
  "language_info": {
   "name": "python"
  },
  "orig_nbformat": 4
 },
 "nbformat": 4,
 "nbformat_minor": 2
}
