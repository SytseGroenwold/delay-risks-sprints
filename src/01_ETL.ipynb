{
 "cells": [
  {
   "cell_type": "markdown",
   "metadata": {},
   "source": [
    "# Extract, transform and load \n",
    "\n",
    "Start: \n",
    "* MongoDB database full with all 2 million + issues as defined by Montgomery et al.\n",
    "* Each repository is their own collection \n",
    "\n",
    "End:\n",
    "* MongoDB database with 2 collections that hold all from different repositories:\n",
    "    * issues\n",
    "    * sprints\n",
    "* this means that each document needs a new (first) field with which repository it belongs to"
   ]
  }
 ],
 "metadata": {
  "language_info": {
   "name": "python"
  },
  "orig_nbformat": 4
 },
 "nbformat": 4,
 "nbformat_minor": 2
}
