{
 "cells": [
  {
   "cell_type": "code",
   "execution_count": 1,
   "metadata": {},
   "outputs": [],
   "source": [
    "import pymongo"
   ]
  },
  {
   "cell_type": "code",
   "execution_count": 2,
   "metadata": {},
   "outputs": [],
   "source": [
    "# Initial setup\n",
    "client = pymongo.MongoClient(\"mongodb://localhost:27017\")"
   ]
  },
  {
   "cell_type": "code",
   "execution_count": 3,
   "metadata": {},
   "outputs": [
    {
     "name": "stdout",
     "output_type": "stream",
     "text": [
      "{'_id': ObjectId('62501c6d026e58d8be4b0ced'), 'id': 6, 'self': 'https://issues.apache.org/jira/rest/agile/1.0/sprint/6', 'state': 'future', 'name': 'Sprint 1', 'originBoardId': 7}\n",
      "{'_id': ObjectId('62501c6d026e58d8be4b0d00'), 'id': 90, 'self': 'https://issues.apache.org/jira/rest/agile/1.0/sprint/90', 'state': 'future', 'name': 'Slider September #2', 'originBoardId': 41}\n",
      "{'_id': ObjectId('62501c70026e58d8be4b0d03'), 'id': 182, 'self': 'https://issues.apache.org/jira/rest/agile/1.0/sprint/182', 'state': 'future', 'name': 'MLlib 1.6 S0', 'originBoardId': 85}\n",
      "{'_id': ObjectId('62501c76026e58d8be4b0d18'), 'id': 347, 'self': 'https://issues.apache.org/jira/rest/agile/1.0/sprint/347', 'state': 'future', 'name': '0.5.1', 'originBoardId': 147, 'issues': ['17636', '17572', '17214', '17184', '17856', '17198', '18243', '17613', '18301', '17788', '17612', '18317', '17738', '17614', '17790', '17619', '17102', '17700', '17654', '17340', '17558', '17225', '17799', '18238', '17792', '17564', '17078', '17226', '18022', '17551', '17653', '18142', '17101', '17316', '17854', '17583', '17478', '17867', '17473', '17216', '17162', '17663', '17793', '17052', '17268', '17368']}\n",
      "{'_id': ObjectId('62501c76026e58d8be4b0d19'), 'id': 348, 'self': 'https://issues.apache.org/jira/rest/agile/1.0/sprint/348', 'state': 'future', 'name': '0.6.0', 'originBoardId': 147}\n",
      "{'_id': ObjectId('62501c7f026e58d8be4b0d6c'), 'id': 391, 'self': 'https://issues.apache.org/jira/rest/agile/1.0/sprint/391', 'state': 'future', 'name': 'R-package 1(08/27-09/10)', 'originBoardId': 211, 'issues': ['18030', '17864', '19378', '17875', '20341', '21012', '21038', '21337', '20330', '20823', '19669', '20776', '21336', '20344', '20340', '20482', '21037', '19470', '20691', '20773', '19689', '20342', '20772', '18886', '20777', '19650', '18622', '20689', '20830', '19902', '20835', '20339', '20728', '17556', '20766', '20942', '20386', '21091', '20770', '21040', '19944', '20374', '21019', '21098', '17091', '18896', '20803', '18738', '20774', '20577', '20802', '18983', '17312', '20848', '21215', '19889', '20483', '21079', '20849', '17163', '20842', '20343', '19670', '20565', '20767', '20872', '20353', '19858', '20365', '20771', '18685', '21249']}\n"
     ]
    }
   ],
   "source": [
    "# repos = ['Apache', 'Hyperledger', 'Spring']\n",
    "# for repo in repos:\n",
    "repo = 'Sandbox'\n",
    "\n",
    "mdb_db = client[repo]\n",
    "mdb_col = mdb_db['Sprints']\n",
    "cursor = mdb_col.find({})\n",
    "for document in cursor:\n",
    "    if document['state'] == 'future':\n",
    "        print(document)"
   ]
  }
 ],
 "metadata": {
  "interpreter": {
   "hash": "0a072403324bc01f31e8f2e3555ecc33f0a7001f5d4c12cd4236fb07e10261e8"
  },
  "kernelspec": {
   "display_name": "Python 3.9.1 ('venv': venv)",
   "language": "python",
   "name": "python3"
  },
  "language_info": {
   "codemirror_mode": {
    "name": "ipython",
    "version": 3
   },
   "file_extension": ".py",
   "mimetype": "text/x-python",
   "name": "python",
   "nbconvert_exporter": "python",
   "pygments_lexer": "ipython3",
   "version": "3.9.1"
  },
  "orig_nbformat": 4
 },
 "nbformat": 4,
 "nbformat_minor": 2
}
