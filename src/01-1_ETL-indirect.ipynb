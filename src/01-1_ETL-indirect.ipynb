{
 "cells": [
  {
   "cell_type": "markdown",
   "metadata": {},
   "source": [
    "# Extract, transform and load \n",
    "\n",
    "Start: \n",
    "* MongoDB database full with all 2 million + issues as defined by Montgomery et al.\n",
    "  * Each repository is their own collection \n",
    "* Have Jira endpoints and credentials\n",
    "\n",
    "End:\n",
    "* MongoDB database with 2 collections that hold all from different repositories:\n",
    "    * issues\n",
    "    * sprints\n",
    "* this means that each document needs a new field with which repository it belongs to\n",
    "\n",
    "Steps:\n",
    "* Iterate over all the issues per repository\n",
    "* If has sprint field:\n",
    "  * Add repo name as field\n",
    "  * Get sprint info from issue\n",
    "  * Check if sprint already exists, if not, add it to sprint collection\n",
    "  * Add the issue to the issue collection"
   ]
  },
  {
   "cell_type": "code",
   "execution_count": 2,
   "metadata": {},
   "outputs": [],
   "source": [
    "# Auxiliary\n",
    "import pymongo\n",
    "import re\n",
    "import json\n",
    "\n",
    "client = pymongo.MongoClient(\"mongodb://localhost:27017\")"
   ]
  },
  {
   "cell_type": "code",
   "execution_count": 4,
   "metadata": {},
   "outputs": [],
   "source": [
    "def get_customfield_from_collection(collection):\n",
    "    col = db[collection]\n",
    "    issues = col.find()\n",
    "    for issue in issues:\n",
    "        fields = issue['fields']\n",
    "        for field in fields:\n",
    "            field_value = fields[field]\n",
    "            if type(field_value) is list and len(field_value)>0 and \"com.atlassian.greenhopper.service.sprint.Sprint\" in field_value[0] and \"custom\":\n",
    "                return(field)"
   ]
  },
  {
   "cell_type": "code",
   "execution_count": 3,
   "metadata": {},
   "outputs": [],
   "source": [
    "def get_and_store_sprint_from_issue(sprintstring, issueid, repo):\n",
    "    d = {}\n",
    "    id = re.search(r'id=(.*?),', sprintstring).group(1)\n",
    "    state = re.search(r'state=(.*?),', sprintstring).group(1)\n",
    "    result = client.JiraRepos['02_Sprints'].find_one({\"id\": repo + str(id)})\n",
    "    # only create and insert if it does not already exist.\n",
    "    if result is None:\n",
    "        d = {}\n",
    "        name = re.search(r'name=(.*?),', sprintstring).group(1)\n",
    "        startDate = re.search(r'startDate=(.*?),', sprintstring).group(1)\n",
    "        endDate = re.search(r'endDate=(.*?),', sprintstring).group(1)\n",
    "        completeDate = re.search(r'completeDate=(.*?),', sprintstring).group(1)\n",
    "        d['id'] = str(repo) + str(id)\n",
    "        d['state'] = state\n",
    "        d['name'] = name\n",
    "        d['startDate'] = startDate\n",
    "        d['endDate'] = endDate\n",
    "        d['completeDate'] = completeDate\n",
    "        # put in try block due to a few edge cases having no activatedDate\n",
    "        try:\n",
    "            activatedDate = re.search(r'activatedDate=(.*?),', sprintstring).group(1)\n",
    "            d['activatedDate'] = activatedDate\n",
    "        except:\n",
    "            d['activatedDate'] = \"not present\"\n",
    "        d['issues'] = [issueid]\n",
    "        client.JiraRepos['02_Sprints'].insert_one(d)\n",
    "    else:\n",
    "        client.JiraRepos['02_Sprints'].update_one({'id': repo + str(id)}, {'$push': {'issues': issueid}})"
   ]
  },
  {
   "cell_type": "code",
   "execution_count": 5,
   "metadata": {},
   "outputs": [
    {
     "ename": "TypeError",
     "evalue": "get_and_store_sprint_from_issue() missing 1 required positional argument: 'repo'",
     "output_type": "error",
     "traceback": [
      "\u001b[1;31m---------------------------------------------------------------------------\u001b[0m",
      "\u001b[1;31mTypeError\u001b[0m                                 Traceback (most recent call last)",
      "\u001b[1;32mc:\\Users\\Sotse\\Documents\\thesis\\thesis-repo\\src\\01_ETL.ipynb Cell 5'\u001b[0m in \u001b[0;36m<cell line: 4>\u001b[1;34m()\u001b[0m\n\u001b[0;32m      <a href='vscode-notebook-cell:/c%3A/Users/Sotse/Documents/thesis/thesis-repo/src/01_ETL.ipynb#ch0000004?line=1'>2</a>\u001b[0m sprint1 \u001b[39m=\u001b[39m \u001b[39m'\u001b[39m\u001b[39mcom.atlassian.greenhopper.service.sprint.Sprint@352cab98[id=1255,rapidViewId=471,state=CLOSED,name=NXRM Neo Sprint 25 Holding,startDate=<null>,endDate=<null>,completeDate=<null>,activatedDate=<null>,sequence=1510,goal=<null>,autoStartStop=false]\u001b[39m\u001b[39m'\u001b[39m\n\u001b[0;32m      <a href='vscode-notebook-cell:/c%3A/Users/Sotse/Documents/thesis/thesis-repo/src/01_ETL.ipynb#ch0000004?line=2'>3</a>\u001b[0m sprint2 \u001b[39m=\u001b[39m \u001b[39m'\u001b[39m\u001b[39mcom.atlassian.greenhopper.service.sprint.Sprint@352cab98[id=1255,rapidViewId=471,state=CLOSED,name=NXRM Neo Sprint 25 Holding,startDate=<null>,endDate=<null>,completeDate=<null>,activatedDate=<null>,sequence=1510,goal=<null>,autoStartStop=false]\u001b[39m\u001b[39m'\u001b[39m\n\u001b[1;32m----> <a href='vscode-notebook-cell:/c%3A/Users/Sotse/Documents/thesis/thesis-repo/src/01_ETL.ipynb#ch0000004?line=3'>4</a>\u001b[0m get_and_store_sprint_from_issue(sprint1, \u001b[39m1\u001b[39;49m)\n\u001b[0;32m      <a href='vscode-notebook-cell:/c%3A/Users/Sotse/Documents/thesis/thesis-repo/src/01_ETL.ipynb#ch0000004?line=4'>5</a>\u001b[0m get_and_store_sprint_from_issue(sprint2, \u001b[39m1\u001b[39m)\n",
      "\u001b[1;31mTypeError\u001b[0m: get_and_store_sprint_from_issue() missing 1 required positional argument: 'repo'"
     ]
    }
   ],
   "source": [
    "# test if get_and_store_sprint_from_issue function works\n",
    "sprint1 = 'com.atlassian.greenhopper.service.sprint.Sprint@352cab98[id=1255,rapidViewId=471,state=CLOSED,name=NXRM Neo Sprint 25 Holding,startDate=<null>,endDate=<null>,completeDate=<null>,activatedDate=<null>,sequence=1510,goal=<null>,autoStartStop=false]'\n",
    "sprint2 = 'com.atlassian.greenhopper.service.sprint.Sprint@352cab98[id=1255,rapidViewId=471,state=CLOSED,name=NXRM Neo Sprint 25 Holding,startDate=<null>,endDate=<null>,completeDate=<null>,activatedDate=<null>,sequence=1510,goal=<null>,autoStartStop=false]'\n",
    "get_and_store_sprint_from_issue(sprint1, 1)\n",
    "get_and_store_sprint_from_issue(sprint2, 1)\n"
   ]
  },
  {
   "cell_type": "code",
   "execution_count": 6,
   "metadata": {},
   "outputs": [
    {
     "name": "stdout",
     "output_type": "stream",
     "text": [
      "Starting Mindville\n",
      "Starting Jira\n",
      "Starting IntelDAOS\n",
      "Starting Mojang\n",
      "Starting Sakai\n",
      "Starting RedHat\n",
      "Starting SecondLife\n",
      "Starting Qt\n",
      "Starting JiraEcosystem\n",
      "Starting Spring\n",
      "Starting MongoDB\n",
      "Starting MariaDB\n",
      "Starting Hyperledger\n",
      "Starting Sonatype\n",
      "Starting Apache\n",
      "Starting JFrog\n"
     ]
    },
    {
     "data": {
      "text/plain": [
       "{'Jira': 'customfield_11930',\n",
       " 'RedHat': 'customfield_12310940',\n",
       " 'Qt': 'customfield_10302',\n",
       " 'Spring': 'customfield_10480',\n",
       " 'MongoDB': 'customfield_10557',\n",
       " 'MariaDB': 'customfield_10400',\n",
       " 'Hyperledger': 'customfield_10004',\n",
       " 'Sonatype': 'customfield_11001',\n",
       " 'Apache': 'customfield_12310921'}"
      ]
     },
     "execution_count": 6,
     "metadata": {},
     "output_type": "execute_result"
    }
   ],
   "source": [
    "# dictionary to store results. manually added SecondLife due to differing name\n",
    "d = {}\n",
    "\n",
    "# get all issues to iterate over\n",
    "db = client['JiraRepos']\n",
    "collections = db.list_collection_names()\n",
    "\n",
    "# iterate over collections\n",
    "for collection in collections:\n",
    "    print(\"Starting \" + collection)\n",
    "    field_name = get_customfield_from_collection(collection)\n",
    "    if field_name is not None:\n",
    "        d[collection] = field_name\n",
    "\n",
    "d"
   ]
  },
  {
   "cell_type": "code",
   "execution_count": 7,
   "metadata": {},
   "outputs": [
    {
     "name": "stdout",
     "output_type": "stream",
     "text": [
      "Starting Jira\n",
      "Jira Jira1528839 []\n",
      "Jira Jira1475868 []\n",
      "Jira Jira1264865 []\n",
      "Jira Jira1165963 []\n",
      "Jira Jira959966 []\n",
      "Starting RedHat\n",
      "RedHat RedHat12777763 []\n",
      "RedHat RedHat12777260 []\n",
      "RedHat RedHat12777148 []\n",
      "RedHat RedHat12777124 []\n",
      "RedHat RedHat12777090 []\n",
      "RedHat RedHat12777008 []\n",
      "RedHat RedHat12776415 []\n",
      "RedHat RedHat12776374 []\n",
      "RedHat RedHat12776338 []\n",
      "RedHat RedHat12776192 []\n",
      "RedHat RedHat12775974 []\n",
      "RedHat RedHat12775815 []\n",
      "RedHat RedHat12775772 []\n",
      "RedHat RedHat12775739 []\n",
      "RedHat RedHat12770462 []\n",
      "RedHat RedHat12763831 []\n",
      "RedHat RedHat12756436 []\n",
      "RedHat RedHat12754463 []\n",
      "RedHat RedHat12752319 []\n",
      "RedHat RedHat12593032 []\n",
      "RedHat RedHat12590348 []\n",
      "RedHat RedHat12589832 []\n",
      "RedHat RedHat12589814 []\n",
      "RedHat RedHat12589800 []\n",
      "RedHat RedHat12589398 []\n",
      "RedHat RedHat12584656 []\n",
      "RedHat RedHat12584654 []\n",
      "RedHat RedHat12580922 []\n",
      "RedHat RedHat12580913 []\n",
      "RedHat RedHat12580878 []\n",
      "RedHat RedHat12570677 []\n",
      "RedHat RedHat12570626 []\n",
      "RedHat RedHat12570029 []\n",
      "RedHat RedHat12725500 []\n",
      "RedHat RedHat12721144 []\n",
      "RedHat RedHat12720627 []\n",
      "RedHat RedHat12598572 []\n",
      "RedHat RedHat12828354 []\n",
      "RedHat RedHat12826866 []\n",
      "RedHat RedHat12825141 []\n",
      "RedHat RedHat12824008 []\n",
      "RedHat RedHat12824002 []\n",
      "RedHat RedHat12822694 []\n",
      "RedHat RedHat12822095 []\n",
      "RedHat RedHat12814414 []\n",
      "RedHat RedHat12575881 []\n",
      "RedHat RedHat12763469 []\n",
      "RedHat RedHat12755413 []\n",
      "RedHat RedHat12753450 []\n",
      "RedHat RedHat12751953 []\n",
      "RedHat RedHat12751615 []\n",
      "RedHat RedHat12748158 []\n",
      "RedHat RedHat12746665 []\n",
      "RedHat RedHat12746664 []\n",
      "RedHat RedHat12739997 []\n",
      "RedHat RedHat12738091 []\n",
      "RedHat RedHat12733877 []\n",
      "RedHat RedHat12733876 []\n",
      "RedHat RedHat12732660 []\n",
      "RedHat RedHat12731416 []\n",
      "RedHat RedHat12730717 []\n",
      "RedHat RedHat12726452 []\n",
      "RedHat RedHat12721528 []\n",
      "RedHat RedHat12719418 []\n",
      "RedHat RedHat12718879 []\n",
      "RedHat RedHat12712378 []\n",
      "RedHat RedHat12711757 []\n",
      "RedHat RedHat12702153 []\n",
      "RedHat RedHat12686567 []\n",
      "RedHat RedHat12682112 []\n",
      "Starting Qt\n",
      "Starting Spring\n",
      "Starting MongoDB\n",
      "MongoDB MongoDB482993 []\n",
      "MongoDB MongoDB1481985 []\n",
      "MongoDB MongoDB1470068 []\n",
      "MongoDB MongoDB1460458 []\n",
      "MongoDB MongoDB1381841 []\n",
      "Starting MariaDB\n",
      "Starting Hyperledger\n",
      "Starting Sonatype\n",
      "Starting Apache\n",
      "Apache Apache13128728 []\n"
     ]
    }
   ],
   "source": [
    "db_src = client['JiraRepos']\n",
    "db_dest = client['JiraRepos']\n",
    "\n",
    "for collection in d.keys():\n",
    "# for collection in ['MariaDB']:\n",
    "    print(\"Starting \" + collection)\n",
    "    col_src = db_src[collection]\n",
    "    col_dest = db_dest['01_Issues']\n",
    "    issues = col_src.find()\n",
    "    for issue in issues:\n",
    "        fields = issue['fields']\n",
    "        for field in fields:\n",
    "            # check if issue has field that holds sprint info\n",
    "            if d[collection] in field and fields[field] is not None:\n",
    "                # add repo field and prepend repo in id field\n",
    "                issue['repository'] = collection\n",
    "                # add field on whether data is private, indirect public or public\n",
    "                issue['availability'] = 'indirect'\n",
    "                issue['id'] = collection+str(issue['id'])\n",
    "                col_dest.insert_one(issue)  \n",
    "                # check for sprint data and store\n",
    "                try:\n",
    "                    get_and_store_sprint_from_issue(issue['fields'][field][0], issue['id'], collection)\n",
    "                except:\n",
    "                    print(collection, issue['id'], issue['fields'][field])"
   ]
  },
  {
   "cell_type": "code",
   "execution_count": null,
   "metadata": {},
   "outputs": [],
   "source": [
    "# Get all directly available sprint data"
   ]
  }
 ],
 "metadata": {
  "interpreter": {
   "hash": "c7f7aa67cb35039918ef448214541870d48727672245b57c8ce45dbad5a3d646"
  },
  "kernelspec": {
   "display_name": "Python 3.9.1 ('venv': venv)",
   "language": "python",
   "name": "python3"
  },
  "language_info": {
   "codemirror_mode": {
    "name": "ipython",
    "version": 3
   },
   "file_extension": ".py",
   "mimetype": "text/x-python",
   "name": "python",
   "nbconvert_exporter": "python",
   "pygments_lexer": "ipython3",
   "version": "3.9.1"
  },
  "orig_nbformat": 4
 },
 "nbformat": 4,
 "nbformat_minor": 2
}
