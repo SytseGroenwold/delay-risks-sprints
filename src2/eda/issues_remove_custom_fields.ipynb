{
 "cells": [
  {
   "cell_type": "markdown",
   "metadata": {},
   "source": [
    "# Remove the customfield_xxxxx fields inside issue documents"
   ]
  },
  {
   "cell_type": "code",
   "execution_count": 1,
   "metadata": {},
   "outputs": [],
   "source": [
    "import pymongo"
   ]
  },
  {
   "cell_type": "code",
   "execution_count": 15,
   "metadata": {},
   "outputs": [],
   "source": [
    "# Initial setup\n",
    "client = pymongo.MongoClient(\"mongodb://localhost:27017\")"
   ]
  },
  {
   "cell_type": "code",
   "execution_count": 17,
   "metadata": {},
   "outputs": [],
   "source": [
    "# Iterate over each repo and remove fields\n",
    "repos = ['Apache', 'Hyperledger', 'Spring']\n",
    "for repo in repos:\n",
    "    mdb_db = client[repo]\n",
    "    mdb_col = mdb_db['Issues']\n",
    "    cursor = mdb_col.find({})\n",
    "    for document in cursor:\n",
    "        for field in document['fields']:\n",
    "            if field[0:11] == \"customfield\":\n",
    "                mdb_col.update_one({\"id\": document['id']}, {\"$unset\": {'fields.'+field:''}})\n",
    "            "
   ]
  }
 ],
 "metadata": {
  "interpreter": {
   "hash": "0a072403324bc01f31e8f2e3555ecc33f0a7001f5d4c12cd4236fb07e10261e8"
  },
  "kernelspec": {
   "display_name": "Python 3.9.1 ('venv': venv)",
   "language": "python",
   "name": "python3"
  },
  "language_info": {
   "codemirror_mode": {
    "name": "ipython",
    "version": 3
   },
   "file_extension": ".py",
   "mimetype": "text/x-python",
   "name": "python",
   "nbconvert_exporter": "python",
   "pygments_lexer": "ipython3",
   "version": "3.9.1"
  },
  "orig_nbformat": 4
 },
 "nbformat": 4,
 "nbformat_minor": 2
}
