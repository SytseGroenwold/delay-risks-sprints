{
 "cells": [
  {
   "cell_type": "markdown",
   "metadata": {},
   "source": [
    "# feature engineering\n",
    "Start:\n",
    "* one database with two collections that hold all the sprints and issues with all the raw data\n",
    "* only addition to this raw data is a field which repository they belong to\n",
    "\n",
    "End:\n",
    "\n",
    "* Sprints:\n",
    "  * Make aggregation of each sprint's metadata:\n",
    "    * sprint planned duration in days\n",
    "    * sprint overdue boolean (completedDate > endDate)\n",
    "    * Number of issues inside sprint\n",
    "    * Median number of issues with changed sprint\n",
    "* Issues:\n",
    "  * predictor: has sprint field in change log (boolean)\n",
    "  * Number of sprint fields in change log (int)\n",
    "  * Add originSprintId field (uuid)\n",
    "  * Add above sprint metadata fields to every issue\n",
    "  * All not used (custom)fields should be removed"
   ]
  },
  {
   "cell_type": "code",
   "execution_count": 1,
   "metadata": {},
   "outputs": [],
   "source": [
    "# Auxiliary\n",
    "import pymongo\n",
    "import re\n",
    "import json\n",
    "import numpy as np\n",
    "from datetime import datetime\n",
    "from dateutil import parser\n",
    "\n",
    "client = pymongo.MongoClient(\"mongodb://localhost:27017\")\n",
    "db = client['JiraRepos']"
   ]
  },
  {
   "cell_type": "code",
   "execution_count": 2,
   "metadata": {},
   "outputs": [],
   "source": [
    "# Issues\n",
    "coll_issues = db['01_Issues']\n",
    "issues = coll_issues.find()\n",
    "\n",
    "# Number of all and sprint-only fields in change log (int)\n",
    "for issue in issues:\n",
    "    sprint_changes = 0\n",
    "    total_changes = issue['changelog']['total']\n",
    "    histories = issue['changelog']['histories']\n",
    "    for history in histories:\n",
    "        for item in history['items']:\n",
    "            if 'sprint' in item['field'].lower():\n",
    "                sprint_changes += 1\n",
    "\n",
    "    coll_issues.update_one({\"id\": issue['id']}, {\"$set\": {\"totalChanges\": total_changes, \"sprintChanges\": sprint_changes}})\n"
   ]
  },
  {
   "cell_type": "code",
   "execution_count": 3,
   "metadata": {},
   "outputs": [
    {
     "ename": "TypeError",
     "evalue": "string indices must be integers",
     "output_type": "error",
     "traceback": [
      "\u001b[1;31m---------------------------------------------------------------------------\u001b[0m",
      "\u001b[1;31mTypeError\u001b[0m                                 Traceback (most recent call last)",
      "\u001b[1;32mc:\\Users\\Sotse\\Documents\\thesis\\thesis-repo\\src\\02_feature-engineering.ipynb Cell 4'\u001b[0m in \u001b[0;36m<cell line: 5>\u001b[1;34m()\u001b[0m\n\u001b[0;32m     <a href='vscode-notebook-cell:/c%3A/Users/Sotse/Documents/thesis/thesis-repo/src/02_feature-engineering.ipynb#ch0000003?line=19'>20</a>\u001b[0m \u001b[39m# Get total number of changes and sprint changes \u001b[39;00m\n\u001b[0;32m     <a href='vscode-notebook-cell:/c%3A/Users/Sotse/Documents/thesis/thesis-repo/src/02_feature-engineering.ipynb#ch0000003?line=20'>21</a>\u001b[0m \u001b[39mfor\u001b[39;00m issue \u001b[39min\u001b[39;00m issues:\n\u001b[1;32m---> <a href='vscode-notebook-cell:/c%3A/Users/Sotse/Documents/thesis/thesis-repo/src/02_feature-engineering.ipynb#ch0000003?line=21'>22</a>\u001b[0m     doc \u001b[39m=\u001b[39m coll_issues\u001b[39m.\u001b[39mfind({\u001b[39m\"\u001b[39m\u001b[39mid\u001b[39m\u001b[39m\"\u001b[39m: issue[\u001b[39m'\u001b[39;49m\u001b[39mid\u001b[39;49m\u001b[39m'\u001b[39;49m]})\n\u001b[0;32m     <a href='vscode-notebook-cell:/c%3A/Users/Sotse/Documents/thesis/thesis-repo/src/02_feature-engineering.ipynb#ch0000003?line=22'>23</a>\u001b[0m     changes_in_issues \u001b[39m+\u001b[39m\u001b[39m=\u001b[39m doc[\u001b[39m'\u001b[39m\u001b[39mtotalChanges\u001b[39m\u001b[39m'\u001b[39m]\n\u001b[0;32m     <a href='vscode-notebook-cell:/c%3A/Users/Sotse/Documents/thesis/thesis-repo/src/02_feature-engineering.ipynb#ch0000003?line=23'>24</a>\u001b[0m     sprint_changes_in_issues \u001b[39m+\u001b[39m\u001b[39m=\u001b[39m doc[\u001b[39m'\u001b[39m\u001b[39msprintChanges\u001b[39m\u001b[39m'\u001b[39m]\n",
      "\u001b[1;31mTypeError\u001b[0m: string indices must be integers"
     ]
    }
   ],
   "source": [
    "# Sprints\n",
    "coll_sprints = db['02_Sprints']\n",
    "sprints = coll_sprints.find()\n",
    "\n",
    "for sprint in sprints:\n",
    "    # sprint planned duration in days\n",
    "    try:\n",
    "        startDate = parser.parse(sprint['startDate'])\n",
    "        endDate = parser.parse(sprint['endDate'])\n",
    "        plannedDuration =  (endDate - startDate).days\n",
    "    except:\n",
    "        plannedDuration = np.nan\n",
    "\n",
    "    # Number of issues inside sprint\n",
    "    issues = sprint['issues']\n",
    "    noOfIssues = len(issues)\n",
    "    changes_in_issues = 0\n",
    "    sprint_changes_in_issues = 0\n",
    "    \n",
    "    # Get total number of changes and sprint changes \n",
    "    for issue in issues:\n",
    "        doc = coll_issues.find({\"id\": issue['id']})\n",
    "        changes_in_issues += doc['totalChanges']\n",
    "        sprint_changes_in_issues += doc['sprintChanges']\n",
    "\n",
    "    coll_sprints.update_one({'id': sprint['id']}, {'$set': {'plannedDuration': plannedDuration, 'noOfIssues': noOfIssues, \"totalChanges\": changes_in_issues, \"sprintChanges\": sprint_changes_in_issues}})\n",
    "\n"
   ]
  },
  {
   "cell_type": "code",
   "execution_count": null,
   "metadata": {},
   "outputs": [],
   "source": [
    "# Add above sprint metadata fields to every issue"
   ]
  },
  {
   "cell_type": "code",
   "execution_count": null,
   "metadata": {},
   "outputs": [],
   "source": [
    "# Keep only a selection of fields as features\n",
    "fields_to_keep = ['description', 'summary', 'resolution.name', 'priority.name', 'aggregatetimeoriginalestimate', 'timeestimate', 'assignnee.key', 'status.name', 'votes.votes', 'issuetype.name', 'project.id', 'watches.watchcount', 'comments.count']"
   ]
  },
  {
   "cell_type": "code",
   "execution_count": null,
   "metadata": {},
   "outputs": [],
   "source": [
    "def get_origin_sprint(issue_id):\n",
    "    sprint_id = re.search(r'id=(.*?),', issue_id[]).group(1)"
   ]
  },
  {
   "cell_type": "code",
   "execution_count": null,
   "metadata": {},
   "outputs": [],
   "source": [
    "# Sprints that need the new Issue data\n",
    "# Median number of issues with changed sprint"
   ]
  }
 ],
 "metadata": {
  "interpreter": {
   "hash": "f2d2501451e4ef932eed298ce4bf2f29121e220f657780d33d6267747bf71878"
  },
  "kernelspec": {
   "display_name": "Python 3.9.1 ('.venv': venv)",
   "language": "python",
   "name": "python3"
  },
  "language_info": {
   "codemirror_mode": {
    "name": "ipython",
    "version": 3
   },
   "file_extension": ".py",
   "mimetype": "text/x-python",
   "name": "python",
   "nbconvert_exporter": "python",
   "pygments_lexer": "ipython3",
   "version": "3.9.1"
  },
  "orig_nbformat": 4
 },
 "nbformat": 4,
 "nbformat_minor": 2
}
