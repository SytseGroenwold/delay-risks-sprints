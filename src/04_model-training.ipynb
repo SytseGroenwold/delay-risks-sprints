{
 "cells": [
  {
   "cell_type": "markdown",
   "metadata": {},
   "source": [
    "# Training the model\n",
    "With all the data prepared and split up in train and test set, here the actual model is defined and trained with the train dataset.\n",
    "The result will be a model that can be used in the next step to make predictions."
   ]
  },
  {
   "cell_type": "code",
   "execution_count": 1,
   "metadata": {},
   "outputs": [],
   "source": [
    "import pymongo\n",
    "import numpy as np\n",
    "import pandas as pd\n",
    "from pandas import json_normalize\n",
    "\n",
    "from sklearn.ensemble import RandomForestRegressor\n",
    "\n",
    "client = pymongo.MongoClient(\"mongodb://localhost:27017\")\n",
    "db = client['JiraRepos']\n",
    "\n",
    "coll_issues = db['01_Issues']\n",
    "coll_sprints = db['02_Sprints']"
   ]
  },
  {
   "cell_type": "code",
   "execution_count": 4,
   "metadata": {},
   "outputs": [
    {
     "ename": "KeyboardInterrupt",
     "evalue": "",
     "output_type": "error",
     "traceback": [
      "\u001b[0;31m---------------------------------------------------------------------------\u001b[0m",
      "\u001b[0;31mKeyboardInterrupt\u001b[0m                         Traceback (most recent call last)",
      "\u001b[1;32m/Users/sytse/code/thesis/thesis-repo/src/04_model-training.ipynb Cell 3'\u001b[0m in \u001b[0;36m<cell line: 2>\u001b[0;34m()\u001b[0m\n\u001b[1;32m      <a href='vscode-notebook-cell:/Users/sytse/code/thesis/thesis-repo/src/04_model-training.ipynb#ch0000002?line=0'>1</a>\u001b[0m issues \u001b[39m=\u001b[39m coll_issues\u001b[39m.\u001b[39mfind()\n\u001b[0;32m----> <a href='vscode-notebook-cell:/Users/sytse/code/thesis/thesis-repo/src/04_model-training.ipynb#ch0000002?line=1'>2</a>\u001b[0m df \u001b[39m=\u001b[39m json_normalize(issues)\n",
      "File \u001b[0;32m~/code/thesis/thesis-repo/.venv/lib/python3.8/site-packages/pandas/io/json/_normalize.py:441\u001b[0m, in \u001b[0;36m_json_normalize\u001b[0;34m(data, record_path, meta, meta_prefix, record_prefix, errors, sep, max_level)\u001b[0m\n\u001b[1;32m    <a href='file:///Users/sytse/code/thesis/thesis-repo/.venv/lib/python3.8/site-packages/pandas/io/json/_normalize.py?line=436'>437</a>\u001b[0m     data \u001b[39m=\u001b[39m [data]\n\u001b[1;32m    <a href='file:///Users/sytse/code/thesis/thesis-repo/.venv/lib/python3.8/site-packages/pandas/io/json/_normalize.py?line=437'>438</a>\u001b[0m \u001b[39melif\u001b[39;00m \u001b[39misinstance\u001b[39m(data, abc\u001b[39m.\u001b[39mIterable) \u001b[39mand\u001b[39;00m \u001b[39mnot\u001b[39;00m \u001b[39misinstance\u001b[39m(data, \u001b[39mstr\u001b[39m):\n\u001b[1;32m    <a href='file:///Users/sytse/code/thesis/thesis-repo/.venv/lib/python3.8/site-packages/pandas/io/json/_normalize.py?line=438'>439</a>\u001b[0m     \u001b[39m# GH35923 Fix pd.json_normalize to not skip the first element of a\u001b[39;00m\n\u001b[1;32m    <a href='file:///Users/sytse/code/thesis/thesis-repo/.venv/lib/python3.8/site-packages/pandas/io/json/_normalize.py?line=439'>440</a>\u001b[0m     \u001b[39m# generator input\u001b[39;00m\n\u001b[0;32m--> <a href='file:///Users/sytse/code/thesis/thesis-repo/.venv/lib/python3.8/site-packages/pandas/io/json/_normalize.py?line=440'>441</a>\u001b[0m     data \u001b[39m=\u001b[39m \u001b[39mlist\u001b[39;49m(data)\n\u001b[1;32m    <a href='file:///Users/sytse/code/thesis/thesis-repo/.venv/lib/python3.8/site-packages/pandas/io/json/_normalize.py?line=441'>442</a>\u001b[0m \u001b[39melse\u001b[39;00m:\n\u001b[1;32m    <a href='file:///Users/sytse/code/thesis/thesis-repo/.venv/lib/python3.8/site-packages/pandas/io/json/_normalize.py?line=442'>443</a>\u001b[0m     \u001b[39mraise\u001b[39;00m \u001b[39mNotImplementedError\u001b[39;00m\n",
      "File \u001b[0;32m~/code/thesis/thesis-repo/.venv/lib/python3.8/site-packages/pymongo/cursor.py:1248\u001b[0m, in \u001b[0;36mCursor.next\u001b[0;34m(self)\u001b[0m\n\u001b[1;32m   <a href='file:///Users/sytse/code/thesis/thesis-repo/.venv/lib/python3.8/site-packages/pymongo/cursor.py?line=1245'>1246</a>\u001b[0m \u001b[39mif\u001b[39;00m \u001b[39mself\u001b[39m\u001b[39m.\u001b[39m__empty:\n\u001b[1;32m   <a href='file:///Users/sytse/code/thesis/thesis-repo/.venv/lib/python3.8/site-packages/pymongo/cursor.py?line=1246'>1247</a>\u001b[0m     \u001b[39mraise\u001b[39;00m \u001b[39mStopIteration\u001b[39;00m\n\u001b[0;32m-> <a href='file:///Users/sytse/code/thesis/thesis-repo/.venv/lib/python3.8/site-packages/pymongo/cursor.py?line=1247'>1248</a>\u001b[0m \u001b[39mif\u001b[39;00m \u001b[39mlen\u001b[39m(\u001b[39mself\u001b[39m\u001b[39m.\u001b[39m__data) \u001b[39mor\u001b[39;00m \u001b[39mself\u001b[39;49m\u001b[39m.\u001b[39;49m_refresh():\n\u001b[1;32m   <a href='file:///Users/sytse/code/thesis/thesis-repo/.venv/lib/python3.8/site-packages/pymongo/cursor.py?line=1248'>1249</a>\u001b[0m     \u001b[39mreturn\u001b[39;00m \u001b[39mself\u001b[39m\u001b[39m.\u001b[39m__data\u001b[39m.\u001b[39mpopleft()\n\u001b[1;32m   <a href='file:///Users/sytse/code/thesis/thesis-repo/.venv/lib/python3.8/site-packages/pymongo/cursor.py?line=1249'>1250</a>\u001b[0m \u001b[39melse\u001b[39;00m:\n",
      "File \u001b[0;32m~/code/thesis/thesis-repo/.venv/lib/python3.8/site-packages/pymongo/cursor.py:1188\u001b[0m, in \u001b[0;36mCursor._refresh\u001b[0;34m(self)\u001b[0m\n\u001b[1;32m   <a href='file:///Users/sytse/code/thesis/thesis-repo/.venv/lib/python3.8/site-packages/pymongo/cursor.py?line=1172'>1173</a>\u001b[0m     \u001b[39m# Exhaust cursors don't send getMore messages.\u001b[39;00m\n\u001b[1;32m   <a href='file:///Users/sytse/code/thesis/thesis-repo/.venv/lib/python3.8/site-packages/pymongo/cursor.py?line=1173'>1174</a>\u001b[0m     g \u001b[39m=\u001b[39m \u001b[39mself\u001b[39m\u001b[39m.\u001b[39m_getmore_class(\n\u001b[1;32m   <a href='file:///Users/sytse/code/thesis/thesis-repo/.venv/lib/python3.8/site-packages/pymongo/cursor.py?line=1174'>1175</a>\u001b[0m         \u001b[39mself\u001b[39m\u001b[39m.\u001b[39m__dbname,\n\u001b[1;32m   <a href='file:///Users/sytse/code/thesis/thesis-repo/.venv/lib/python3.8/site-packages/pymongo/cursor.py?line=1175'>1176</a>\u001b[0m         \u001b[39mself\u001b[39m\u001b[39m.\u001b[39m__collname,\n\u001b[0;32m   (...)\u001b[0m\n\u001b[1;32m   <a href='file:///Users/sytse/code/thesis/thesis-repo/.venv/lib/python3.8/site-packages/pymongo/cursor.py?line=1185'>1186</a>\u001b[0m         \u001b[39mself\u001b[39m\u001b[39m.\u001b[39m__comment,\n\u001b[1;32m   <a href='file:///Users/sytse/code/thesis/thesis-repo/.venv/lib/python3.8/site-packages/pymongo/cursor.py?line=1186'>1187</a>\u001b[0m     )\n\u001b[0;32m-> <a href='file:///Users/sytse/code/thesis/thesis-repo/.venv/lib/python3.8/site-packages/pymongo/cursor.py?line=1187'>1188</a>\u001b[0m     \u001b[39mself\u001b[39;49m\u001b[39m.\u001b[39;49m__send_message(g)\n\u001b[1;32m   <a href='file:///Users/sytse/code/thesis/thesis-repo/.venv/lib/python3.8/site-packages/pymongo/cursor.py?line=1189'>1190</a>\u001b[0m \u001b[39mreturn\u001b[39;00m \u001b[39mlen\u001b[39m(\u001b[39mself\u001b[39m\u001b[39m.\u001b[39m__data)\n",
      "File \u001b[0;32m~/code/thesis/thesis-repo/.venv/lib/python3.8/site-packages/pymongo/cursor.py:1052\u001b[0m, in \u001b[0;36mCursor.__send_message\u001b[0;34m(self, operation)\u001b[0m\n\u001b[1;32m   <a href='file:///Users/sytse/code/thesis/thesis-repo/.venv/lib/python3.8/site-packages/pymongo/cursor.py?line=1048'>1049</a>\u001b[0m     \u001b[39mraise\u001b[39;00m InvalidOperation(\u001b[39m\"\u001b[39m\u001b[39mexhaust cursors do not support auto encryption\u001b[39m\u001b[39m\"\u001b[39m)\n\u001b[1;32m   <a href='file:///Users/sytse/code/thesis/thesis-repo/.venv/lib/python3.8/site-packages/pymongo/cursor.py?line=1050'>1051</a>\u001b[0m \u001b[39mtry\u001b[39;00m:\n\u001b[0;32m-> <a href='file:///Users/sytse/code/thesis/thesis-repo/.venv/lib/python3.8/site-packages/pymongo/cursor.py?line=1051'>1052</a>\u001b[0m     response \u001b[39m=\u001b[39m client\u001b[39m.\u001b[39;49m_run_operation(\n\u001b[1;32m   <a href='file:///Users/sytse/code/thesis/thesis-repo/.venv/lib/python3.8/site-packages/pymongo/cursor.py?line=1052'>1053</a>\u001b[0m         operation, \u001b[39mself\u001b[39;49m\u001b[39m.\u001b[39;49m_unpack_response, address\u001b[39m=\u001b[39;49m\u001b[39mself\u001b[39;49m\u001b[39m.\u001b[39;49m__address\n\u001b[1;32m   <a href='file:///Users/sytse/code/thesis/thesis-repo/.venv/lib/python3.8/site-packages/pymongo/cursor.py?line=1053'>1054</a>\u001b[0m     )\n\u001b[1;32m   <a href='file:///Users/sytse/code/thesis/thesis-repo/.venv/lib/python3.8/site-packages/pymongo/cursor.py?line=1054'>1055</a>\u001b[0m \u001b[39mexcept\u001b[39;00m OperationFailure \u001b[39mas\u001b[39;00m exc:\n\u001b[1;32m   <a href='file:///Users/sytse/code/thesis/thesis-repo/.venv/lib/python3.8/site-packages/pymongo/cursor.py?line=1055'>1056</a>\u001b[0m     \u001b[39mif\u001b[39;00m exc\u001b[39m.\u001b[39mcode \u001b[39min\u001b[39;00m _CURSOR_CLOSED_ERRORS \u001b[39mor\u001b[39;00m \u001b[39mself\u001b[39m\u001b[39m.\u001b[39m__exhaust:\n\u001b[1;32m   <a href='file:///Users/sytse/code/thesis/thesis-repo/.venv/lib/python3.8/site-packages/pymongo/cursor.py?line=1056'>1057</a>\u001b[0m         \u001b[39m# Don't send killCursors because the cursor is already closed.\u001b[39;00m\n",
      "File \u001b[0;32m~/code/thesis/thesis-repo/.venv/lib/python3.8/site-packages/pymongo/mongo_client.py:1267\u001b[0m, in \u001b[0;36mMongoClient._run_operation\u001b[0;34m(self, operation, unpack_res, address)\u001b[0m\n\u001b[1;32m   <a href='file:///Users/sytse/code/thesis/thesis-repo/.venv/lib/python3.8/site-packages/pymongo/mongo_client.py?line=1261'>1262</a>\u001b[0m \u001b[39mdef\u001b[39;00m \u001b[39m_cmd\u001b[39m(session, server, sock_info, read_preference):\n\u001b[1;32m   <a href='file:///Users/sytse/code/thesis/thesis-repo/.venv/lib/python3.8/site-packages/pymongo/mongo_client.py?line=1262'>1263</a>\u001b[0m     \u001b[39mreturn\u001b[39;00m server\u001b[39m.\u001b[39mrun_operation(\n\u001b[1;32m   <a href='file:///Users/sytse/code/thesis/thesis-repo/.venv/lib/python3.8/site-packages/pymongo/mongo_client.py?line=1263'>1264</a>\u001b[0m         sock_info, operation, read_preference, \u001b[39mself\u001b[39m\u001b[39m.\u001b[39m_event_listeners, unpack_res\n\u001b[1;32m   <a href='file:///Users/sytse/code/thesis/thesis-repo/.venv/lib/python3.8/site-packages/pymongo/mongo_client.py?line=1264'>1265</a>\u001b[0m     )\n\u001b[0;32m-> <a href='file:///Users/sytse/code/thesis/thesis-repo/.venv/lib/python3.8/site-packages/pymongo/mongo_client.py?line=1266'>1267</a>\u001b[0m \u001b[39mreturn\u001b[39;00m \u001b[39mself\u001b[39;49m\u001b[39m.\u001b[39;49m_retryable_read(\n\u001b[1;32m   <a href='file:///Users/sytse/code/thesis/thesis-repo/.venv/lib/python3.8/site-packages/pymongo/mongo_client.py?line=1267'>1268</a>\u001b[0m     _cmd,\n\u001b[1;32m   <a href='file:///Users/sytse/code/thesis/thesis-repo/.venv/lib/python3.8/site-packages/pymongo/mongo_client.py?line=1268'>1269</a>\u001b[0m     operation\u001b[39m.\u001b[39;49mread_preference,\n\u001b[1;32m   <a href='file:///Users/sytse/code/thesis/thesis-repo/.venv/lib/python3.8/site-packages/pymongo/mongo_client.py?line=1269'>1270</a>\u001b[0m     operation\u001b[39m.\u001b[39;49msession,\n\u001b[1;32m   <a href='file:///Users/sytse/code/thesis/thesis-repo/.venv/lib/python3.8/site-packages/pymongo/mongo_client.py?line=1270'>1271</a>\u001b[0m     address\u001b[39m=\u001b[39;49maddress,\n\u001b[1;32m   <a href='file:///Users/sytse/code/thesis/thesis-repo/.venv/lib/python3.8/site-packages/pymongo/mongo_client.py?line=1271'>1272</a>\u001b[0m     retryable\u001b[39m=\u001b[39;49m\u001b[39misinstance\u001b[39;49m(operation, message\u001b[39m.\u001b[39;49m_Query),\n\u001b[1;32m   <a href='file:///Users/sytse/code/thesis/thesis-repo/.venv/lib/python3.8/site-packages/pymongo/mongo_client.py?line=1272'>1273</a>\u001b[0m )\n",
      "File \u001b[0;32m~/code/thesis/thesis-repo/.venv/lib/python3.8/site-packages/pymongo/mongo_client.py:1371\u001b[0m, in \u001b[0;36mMongoClient._retryable_read\u001b[0;34m(self, func, read_pref, session, address, retryable)\u001b[0m\n\u001b[1;32m   <a href='file:///Users/sytse/code/thesis/thesis-repo/.venv/lib/python3.8/site-packages/pymongo/mongo_client.py?line=1368'>1369</a>\u001b[0m             \u001b[39massert\u001b[39;00m last_error \u001b[39mis\u001b[39;00m \u001b[39mnot\u001b[39;00m \u001b[39mNone\u001b[39;00m\n\u001b[1;32m   <a href='file:///Users/sytse/code/thesis/thesis-repo/.venv/lib/python3.8/site-packages/pymongo/mongo_client.py?line=1369'>1370</a>\u001b[0m             \u001b[39mraise\u001b[39;00m last_error\n\u001b[0;32m-> <a href='file:///Users/sytse/code/thesis/thesis-repo/.venv/lib/python3.8/site-packages/pymongo/mongo_client.py?line=1370'>1371</a>\u001b[0m         \u001b[39mreturn\u001b[39;00m func(session, server, sock_info, read_pref)\n\u001b[1;32m   <a href='file:///Users/sytse/code/thesis/thesis-repo/.venv/lib/python3.8/site-packages/pymongo/mongo_client.py?line=1371'>1372</a>\u001b[0m \u001b[39mexcept\u001b[39;00m ServerSelectionTimeoutError:\n\u001b[1;32m   <a href='file:///Users/sytse/code/thesis/thesis-repo/.venv/lib/python3.8/site-packages/pymongo/mongo_client.py?line=1372'>1373</a>\u001b[0m     \u001b[39mif\u001b[39;00m retrying:\n\u001b[1;32m   <a href='file:///Users/sytse/code/thesis/thesis-repo/.venv/lib/python3.8/site-packages/pymongo/mongo_client.py?line=1373'>1374</a>\u001b[0m         \u001b[39m# The application may think the write was never attempted\u001b[39;00m\n\u001b[1;32m   <a href='file:///Users/sytse/code/thesis/thesis-repo/.venv/lib/python3.8/site-packages/pymongo/mongo_client.py?line=1374'>1375</a>\u001b[0m         \u001b[39m# if we raise ServerSelectionTimeoutError on the retry\u001b[39;00m\n\u001b[1;32m   <a href='file:///Users/sytse/code/thesis/thesis-repo/.venv/lib/python3.8/site-packages/pymongo/mongo_client.py?line=1375'>1376</a>\u001b[0m         \u001b[39m# attempt. Raise the original exception instead.\u001b[39;00m\n",
      "File \u001b[0;32m~/code/thesis/thesis-repo/.venv/lib/python3.8/site-packages/pymongo/mongo_client.py:1263\u001b[0m, in \u001b[0;36mMongoClient._run_operation.<locals>._cmd\u001b[0;34m(session, server, sock_info, read_preference)\u001b[0m\n\u001b[1;32m   <a href='file:///Users/sytse/code/thesis/thesis-repo/.venv/lib/python3.8/site-packages/pymongo/mongo_client.py?line=1261'>1262</a>\u001b[0m \u001b[39mdef\u001b[39;00m \u001b[39m_cmd\u001b[39m(session, server, sock_info, read_preference):\n\u001b[0;32m-> <a href='file:///Users/sytse/code/thesis/thesis-repo/.venv/lib/python3.8/site-packages/pymongo/mongo_client.py?line=1262'>1263</a>\u001b[0m     \u001b[39mreturn\u001b[39;00m server\u001b[39m.\u001b[39;49mrun_operation(\n\u001b[1;32m   <a href='file:///Users/sytse/code/thesis/thesis-repo/.venv/lib/python3.8/site-packages/pymongo/mongo_client.py?line=1263'>1264</a>\u001b[0m         sock_info, operation, read_preference, \u001b[39mself\u001b[39;49m\u001b[39m.\u001b[39;49m_event_listeners, unpack_res\n\u001b[1;32m   <a href='file:///Users/sytse/code/thesis/thesis-repo/.venv/lib/python3.8/site-packages/pymongo/mongo_client.py?line=1264'>1265</a>\u001b[0m     )\n",
      "File \u001b[0;32m~/code/thesis/thesis-repo/.venv/lib/python3.8/site-packages/pymongo/server.py:115\u001b[0m, in \u001b[0;36mServer.run_operation\u001b[0;34m(self, sock_info, operation, read_preference, listeners, unpack_res)\u001b[0m\n\u001b[1;32m    <a href='file:///Users/sytse/code/thesis/thesis-repo/.venv/lib/python3.8/site-packages/pymongo/server.py?line=112'>113</a>\u001b[0m \u001b[39melse\u001b[39;00m:\n\u001b[1;32m    <a href='file:///Users/sytse/code/thesis/thesis-repo/.venv/lib/python3.8/site-packages/pymongo/server.py?line=113'>114</a>\u001b[0m     sock_info\u001b[39m.\u001b[39msend_message(data, max_doc_size)\n\u001b[0;32m--> <a href='file:///Users/sytse/code/thesis/thesis-repo/.venv/lib/python3.8/site-packages/pymongo/server.py?line=114'>115</a>\u001b[0m     reply \u001b[39m=\u001b[39m sock_info\u001b[39m.\u001b[39;49mreceive_message(request_id)\n\u001b[1;32m    <a href='file:///Users/sytse/code/thesis/thesis-repo/.venv/lib/python3.8/site-packages/pymongo/server.py?line=116'>117</a>\u001b[0m \u001b[39m# Unpack and check for command errors.\u001b[39;00m\n\u001b[1;32m    <a href='file:///Users/sytse/code/thesis/thesis-repo/.venv/lib/python3.8/site-packages/pymongo/server.py?line=117'>118</a>\u001b[0m \u001b[39mif\u001b[39;00m use_cmd:\n",
      "File \u001b[0;32m~/code/thesis/thesis-repo/.venv/lib/python3.8/site-packages/pymongo/pool.py:796\u001b[0m, in \u001b[0;36mSocketInfo.receive_message\u001b[0;34m(self, request_id)\u001b[0m\n\u001b[1;32m    <a href='file:///Users/sytse/code/thesis/thesis-repo/.venv/lib/python3.8/site-packages/pymongo/pool.py?line=793'>794</a>\u001b[0m     \u001b[39mreturn\u001b[39;00m receive_message(\u001b[39mself\u001b[39m, request_id, \u001b[39mself\u001b[39m\u001b[39m.\u001b[39mmax_message_size)\n\u001b[1;32m    <a href='file:///Users/sytse/code/thesis/thesis-repo/.venv/lib/python3.8/site-packages/pymongo/pool.py?line=794'>795</a>\u001b[0m \u001b[39mexcept\u001b[39;00m \u001b[39mBaseException\u001b[39;00m \u001b[39mas\u001b[39;00m error:\n\u001b[0;32m--> <a href='file:///Users/sytse/code/thesis/thesis-repo/.venv/lib/python3.8/site-packages/pymongo/pool.py?line=795'>796</a>\u001b[0m     \u001b[39mself\u001b[39;49m\u001b[39m.\u001b[39;49m_raise_connection_failure(error)\n",
      "File \u001b[0;32m~/code/thesis/thesis-repo/.venv/lib/python3.8/site-packages/pymongo/pool.py:794\u001b[0m, in \u001b[0;36mSocketInfo.receive_message\u001b[0;34m(self, request_id)\u001b[0m\n\u001b[1;32m    <a href='file:///Users/sytse/code/thesis/thesis-repo/.venv/lib/python3.8/site-packages/pymongo/pool.py?line=788'>789</a>\u001b[0m \u001b[39m\"\"\"Receive a raw BSON message or raise ConnectionFailure.\u001b[39;00m\n\u001b[1;32m    <a href='file:///Users/sytse/code/thesis/thesis-repo/.venv/lib/python3.8/site-packages/pymongo/pool.py?line=789'>790</a>\u001b[0m \n\u001b[1;32m    <a href='file:///Users/sytse/code/thesis/thesis-repo/.venv/lib/python3.8/site-packages/pymongo/pool.py?line=790'>791</a>\u001b[0m \u001b[39mIf any exception is raised, the socket is closed.\u001b[39;00m\n\u001b[1;32m    <a href='file:///Users/sytse/code/thesis/thesis-repo/.venv/lib/python3.8/site-packages/pymongo/pool.py?line=791'>792</a>\u001b[0m \u001b[39m\"\"\"\u001b[39;00m\n\u001b[1;32m    <a href='file:///Users/sytse/code/thesis/thesis-repo/.venv/lib/python3.8/site-packages/pymongo/pool.py?line=792'>793</a>\u001b[0m \u001b[39mtry\u001b[39;00m:\n\u001b[0;32m--> <a href='file:///Users/sytse/code/thesis/thesis-repo/.venv/lib/python3.8/site-packages/pymongo/pool.py?line=793'>794</a>\u001b[0m     \u001b[39mreturn\u001b[39;00m receive_message(\u001b[39mself\u001b[39;49m, request_id, \u001b[39mself\u001b[39;49m\u001b[39m.\u001b[39;49mmax_message_size)\n\u001b[1;32m    <a href='file:///Users/sytse/code/thesis/thesis-repo/.venv/lib/python3.8/site-packages/pymongo/pool.py?line=794'>795</a>\u001b[0m \u001b[39mexcept\u001b[39;00m \u001b[39mBaseException\u001b[39;00m \u001b[39mas\u001b[39;00m error:\n\u001b[1;32m    <a href='file:///Users/sytse/code/thesis/thesis-repo/.venv/lib/python3.8/site-packages/pymongo/pool.py?line=795'>796</a>\u001b[0m     \u001b[39mself\u001b[39m\u001b[39m.\u001b[39m_raise_connection_failure(error)\n",
      "File \u001b[0;32m~/code/thesis/thesis-repo/.venv/lib/python3.8/site-packages/pymongo/network.py:208\u001b[0m, in \u001b[0;36mreceive_message\u001b[0;34m(sock_info, request_id, max_message_size)\u001b[0m\n\u001b[1;32m    <a href='file:///Users/sytse/code/thesis/thesis-repo/.venv/lib/python3.8/site-packages/pymongo/network.py?line=204'>205</a>\u001b[0m     deadline \u001b[39m=\u001b[39m \u001b[39mNone\u001b[39;00m\n\u001b[1;32m    <a href='file:///Users/sytse/code/thesis/thesis-repo/.venv/lib/python3.8/site-packages/pymongo/network.py?line=205'>206</a>\u001b[0m \u001b[39m# Ignore the response's request id.\u001b[39;00m\n\u001b[1;32m    <a href='file:///Users/sytse/code/thesis/thesis-repo/.venv/lib/python3.8/site-packages/pymongo/network.py?line=206'>207</a>\u001b[0m length, _, response_to, op_code \u001b[39m=\u001b[39m _UNPACK_HEADER(\n\u001b[0;32m--> <a href='file:///Users/sytse/code/thesis/thesis-repo/.venv/lib/python3.8/site-packages/pymongo/network.py?line=207'>208</a>\u001b[0m     _receive_data_on_socket(sock_info, \u001b[39m16\u001b[39;49m, deadline)\n\u001b[1;32m    <a href='file:///Users/sytse/code/thesis/thesis-repo/.venv/lib/python3.8/site-packages/pymongo/network.py?line=208'>209</a>\u001b[0m )\n\u001b[1;32m    <a href='file:///Users/sytse/code/thesis/thesis-repo/.venv/lib/python3.8/site-packages/pymongo/network.py?line=209'>210</a>\u001b[0m \u001b[39m# No request_id for exhaust cursor \"getMore\".\u001b[39;00m\n\u001b[1;32m    <a href='file:///Users/sytse/code/thesis/thesis-repo/.venv/lib/python3.8/site-packages/pymongo/network.py?line=210'>211</a>\u001b[0m \u001b[39mif\u001b[39;00m request_id \u001b[39mis\u001b[39;00m \u001b[39mnot\u001b[39;00m \u001b[39mNone\u001b[39;00m:\n",
      "File \u001b[0;32m~/code/thesis/thesis-repo/.venv/lib/python3.8/site-packages/pymongo/network.py:281\u001b[0m, in \u001b[0;36m_receive_data_on_socket\u001b[0;34m(sock_info, length, deadline)\u001b[0m\n\u001b[1;32m    <a href='file:///Users/sytse/code/thesis/thesis-repo/.venv/lib/python3.8/site-packages/pymongo/network.py?line=278'>279</a>\u001b[0m \u001b[39mtry\u001b[39;00m:\n\u001b[1;32m    <a href='file:///Users/sytse/code/thesis/thesis-repo/.venv/lib/python3.8/site-packages/pymongo/network.py?line=279'>280</a>\u001b[0m     wait_for_read(sock_info, deadline)\n\u001b[0;32m--> <a href='file:///Users/sytse/code/thesis/thesis-repo/.venv/lib/python3.8/site-packages/pymongo/network.py?line=280'>281</a>\u001b[0m     chunk_length \u001b[39m=\u001b[39m sock_info\u001b[39m.\u001b[39;49msock\u001b[39m.\u001b[39;49mrecv_into(mv[bytes_read:])\n\u001b[1;32m    <a href='file:///Users/sytse/code/thesis/thesis-repo/.venv/lib/python3.8/site-packages/pymongo/network.py?line=281'>282</a>\u001b[0m \u001b[39mexcept\u001b[39;00m (\u001b[39mIOError\u001b[39;00m, \u001b[39mOSError\u001b[39;00m) \u001b[39mas\u001b[39;00m exc:  \u001b[39m# noqa: B014\u001b[39;00m\n\u001b[1;32m    <a href='file:///Users/sytse/code/thesis/thesis-repo/.venv/lib/python3.8/site-packages/pymongo/network.py?line=282'>283</a>\u001b[0m     \u001b[39mif\u001b[39;00m _errno_from_exception(exc) \u001b[39m==\u001b[39m errno\u001b[39m.\u001b[39mEINTR:\n",
      "\u001b[0;31mKeyboardInterrupt\u001b[0m: "
     ]
    }
   ],
   "source": [
    "issues = coll_issues.find()\n",
    "df = json_normalize(issues)"
   ]
  },
  {
   "cell_type": "code",
   "execution_count": 2,
   "metadata": {},
   "outputs": [],
   "source": [
    "rf = RandomForestRegressor(\n",
    "    n_estimators=100,\n",
    "    criterion='squared_error',\n",
    "    max_depth=None,\n",
    "    min_samples_split=2,\n",
    "    min_samples_leaf=1,\n",
    "    min_weight_fraction_leaf=0.0,\n",
    "    max_features=1.0,\n",
    "    max_leaf_nodes=None,\n",
    "    min_impurity_decrease=0.0,\n",
    "    bootstrap=True,\n",
    "    oob_score=False,\n",
    "    n_jobs=None,\n",
    "    random_state=None,\n",
    "    verbose=0,\n",
    "    warm_start=False,\n",
    "    ccp_alpha=0.0,\n",
    "    max_samples=None\n",
    ")"
   ]
  },
  {
   "cell_type": "code",
   "execution_count": null,
   "metadata": {},
   "outputs": [],
   "source": []
  }
 ],
 "metadata": {
  "interpreter": {
   "hash": "582f8712dad1a0319f72c7e92e3b96ca464071e4bc7f86c128f6102231981976"
  },
  "kernelspec": {
   "display_name": "Python 3.8.9 ('.venv': venv)",
   "language": "python",
   "name": "python3"
  },
  "language_info": {
   "codemirror_mode": {
    "name": "ipython",
    "version": 3
   },
   "file_extension": ".py",
   "mimetype": "text/x-python",
   "name": "python",
   "nbconvert_exporter": "python",
   "pygments_lexer": "ipython3",
   "version": "3.8.9"
  },
  "orig_nbformat": 4
 },
 "nbformat": 4,
 "nbformat_minor": 2
}
